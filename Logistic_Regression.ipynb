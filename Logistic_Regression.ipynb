{
  "nbformat": 4,
  "nbformat_minor": 0,
  "metadata": {
    "kernelspec": {
      "display_name": "Python 3",
      "language": "python",
      "name": "python3"
    },
    "language_info": {
      "codemirror_mode": {
        "name": "ipython",
        "version": 3
      },
      "file_extension": ".py",
      "mimetype": "text/x-python",
      "name": "python",
      "nbconvert_exporter": "python",
      "pygments_lexer": "ipython3",
      "version": "3.7.4"
    },
    "colab": {
      "name": "Logistic Regression.ipynb",
      "provenance": [],
      "collapsed_sections": []
    }
  },
  "cells": [
    {
      "cell_type": "markdown",
      "metadata": {
        "id": "Q6xr7CCyGoLa"
      },
      "source": [
        "### Logistic Regression  \n",
        "Applying logistic regression to the breastcancer dataset for binary classification:\n",
        "\n",
        "**Breast Cancer**:  this dataset is aimed at developing classifiers that can distinguish be-tween malignant and benign tumors in breast cancer.   There are thirty real valued features and 569 instances.\n"
      ]
    },
    {
      "cell_type": "markdown",
      "metadata": {
        "id": "N8XngkyfGoLa"
      },
      "source": [
        "### Task\n",
        "Implement logistic regression using gradient descent. Do ten-fold cross validation and find the best step-size $\\alpha$, using accuracy as the metric. Finally, use the best $\\alpha$ you get and re-train the model on the full training data, and report the accuracy, precision and recall.\n",
        "\n",
        "\n"
      ]
    },
    {
      "cell_type": "markdown",
      "metadata": {
        "id": "rlASAFOHGoLb"
      },
      "source": [
        "### A first look at the dataset"
      ]
    },
    {
      "cell_type": "code",
      "metadata": {
        "id": "1ak0bmih8JyG"
      },
      "source": [
        "# Do not change the code in this cell\n",
        "import pandas as pd\n",
        "import numpy as np\n",
        "import matplotlib.pyplot as plt\n",
        "import os\n",
        "%matplotlib notebook"
      ],
      "execution_count": 1,
      "outputs": []
    },
    {
      "cell_type": "code",
      "metadata": {
        "id": "GvgJ8-RkGoLb",
        "colab": {
          "base_uri": "https://localhost:8080/",
          "height": 223
        },
        "outputId": "264df682-e560-473c-e6c6-3dfc4614d462"
      },
      "source": [
        "DATA_DIR='breastcancer.csv'\n",
        "df = pd.read_csv(DATA_DIR, header=None)\n",
        "df.head()"
      ],
      "execution_count": 2,
      "outputs": [
        {
          "output_type": "execute_result",
          "data": {
            "text/html": [
              "<div>\n",
              "<style scoped>\n",
              "    .dataframe tbody tr th:only-of-type {\n",
              "        vertical-align: middle;\n",
              "    }\n",
              "\n",
              "    .dataframe tbody tr th {\n",
              "        vertical-align: top;\n",
              "    }\n",
              "\n",
              "    .dataframe thead th {\n",
              "        text-align: right;\n",
              "    }\n",
              "</style>\n",
              "<table border=\"1\" class=\"dataframe\">\n",
              "  <thead>\n",
              "    <tr style=\"text-align: right;\">\n",
              "      <th></th>\n",
              "      <th>0</th>\n",
              "      <th>1</th>\n",
              "      <th>2</th>\n",
              "      <th>3</th>\n",
              "      <th>4</th>\n",
              "      <th>5</th>\n",
              "      <th>6</th>\n",
              "      <th>7</th>\n",
              "      <th>8</th>\n",
              "      <th>9</th>\n",
              "      <th>10</th>\n",
              "      <th>11</th>\n",
              "      <th>12</th>\n",
              "      <th>13</th>\n",
              "      <th>14</th>\n",
              "      <th>15</th>\n",
              "      <th>16</th>\n",
              "      <th>17</th>\n",
              "      <th>18</th>\n",
              "      <th>19</th>\n",
              "      <th>20</th>\n",
              "      <th>21</th>\n",
              "      <th>22</th>\n",
              "      <th>23</th>\n",
              "      <th>24</th>\n",
              "      <th>25</th>\n",
              "      <th>26</th>\n",
              "      <th>27</th>\n",
              "      <th>28</th>\n",
              "      <th>29</th>\n",
              "      <th>30</th>\n",
              "    </tr>\n",
              "  </thead>\n",
              "  <tbody>\n",
              "    <tr>\n",
              "      <th>0</th>\n",
              "      <td>17.99</td>\n",
              "      <td>10.38</td>\n",
              "      <td>122.80</td>\n",
              "      <td>1001.0</td>\n",
              "      <td>0.11840</td>\n",
              "      <td>0.27760</td>\n",
              "      <td>0.3001</td>\n",
              "      <td>0.14710</td>\n",
              "      <td>0.2419</td>\n",
              "      <td>0.07871</td>\n",
              "      <td>1.0950</td>\n",
              "      <td>0.9053</td>\n",
              "      <td>8.589</td>\n",
              "      <td>153.40</td>\n",
              "      <td>0.006399</td>\n",
              "      <td>0.04904</td>\n",
              "      <td>0.05373</td>\n",
              "      <td>0.01587</td>\n",
              "      <td>0.03003</td>\n",
              "      <td>0.006193</td>\n",
              "      <td>25.38</td>\n",
              "      <td>17.33</td>\n",
              "      <td>184.60</td>\n",
              "      <td>2019.0</td>\n",
              "      <td>0.1622</td>\n",
              "      <td>0.6656</td>\n",
              "      <td>0.7119</td>\n",
              "      <td>0.2654</td>\n",
              "      <td>0.4601</td>\n",
              "      <td>0.11890</td>\n",
              "      <td>1</td>\n",
              "    </tr>\n",
              "    <tr>\n",
              "      <th>1</th>\n",
              "      <td>20.57</td>\n",
              "      <td>17.77</td>\n",
              "      <td>132.90</td>\n",
              "      <td>1326.0</td>\n",
              "      <td>0.08474</td>\n",
              "      <td>0.07864</td>\n",
              "      <td>0.0869</td>\n",
              "      <td>0.07017</td>\n",
              "      <td>0.1812</td>\n",
              "      <td>0.05667</td>\n",
              "      <td>0.5435</td>\n",
              "      <td>0.7339</td>\n",
              "      <td>3.398</td>\n",
              "      <td>74.08</td>\n",
              "      <td>0.005225</td>\n",
              "      <td>0.01308</td>\n",
              "      <td>0.01860</td>\n",
              "      <td>0.01340</td>\n",
              "      <td>0.01389</td>\n",
              "      <td>0.003532</td>\n",
              "      <td>24.99</td>\n",
              "      <td>23.41</td>\n",
              "      <td>158.80</td>\n",
              "      <td>1956.0</td>\n",
              "      <td>0.1238</td>\n",
              "      <td>0.1866</td>\n",
              "      <td>0.2416</td>\n",
              "      <td>0.1860</td>\n",
              "      <td>0.2750</td>\n",
              "      <td>0.08902</td>\n",
              "      <td>1</td>\n",
              "    </tr>\n",
              "    <tr>\n",
              "      <th>2</th>\n",
              "      <td>19.69</td>\n",
              "      <td>21.25</td>\n",
              "      <td>130.00</td>\n",
              "      <td>1203.0</td>\n",
              "      <td>0.10960</td>\n",
              "      <td>0.15990</td>\n",
              "      <td>0.1974</td>\n",
              "      <td>0.12790</td>\n",
              "      <td>0.2069</td>\n",
              "      <td>0.05999</td>\n",
              "      <td>0.7456</td>\n",
              "      <td>0.7869</td>\n",
              "      <td>4.585</td>\n",
              "      <td>94.03</td>\n",
              "      <td>0.006150</td>\n",
              "      <td>0.04006</td>\n",
              "      <td>0.03832</td>\n",
              "      <td>0.02058</td>\n",
              "      <td>0.02250</td>\n",
              "      <td>0.004571</td>\n",
              "      <td>23.57</td>\n",
              "      <td>25.53</td>\n",
              "      <td>152.50</td>\n",
              "      <td>1709.0</td>\n",
              "      <td>0.1444</td>\n",
              "      <td>0.4245</td>\n",
              "      <td>0.4504</td>\n",
              "      <td>0.2430</td>\n",
              "      <td>0.3613</td>\n",
              "      <td>0.08758</td>\n",
              "      <td>1</td>\n",
              "    </tr>\n",
              "    <tr>\n",
              "      <th>3</th>\n",
              "      <td>11.42</td>\n",
              "      <td>20.38</td>\n",
              "      <td>77.58</td>\n",
              "      <td>386.1</td>\n",
              "      <td>0.14250</td>\n",
              "      <td>0.28390</td>\n",
              "      <td>0.2414</td>\n",
              "      <td>0.10520</td>\n",
              "      <td>0.2597</td>\n",
              "      <td>0.09744</td>\n",
              "      <td>0.4956</td>\n",
              "      <td>1.1560</td>\n",
              "      <td>3.445</td>\n",
              "      <td>27.23</td>\n",
              "      <td>0.009110</td>\n",
              "      <td>0.07458</td>\n",
              "      <td>0.05661</td>\n",
              "      <td>0.01867</td>\n",
              "      <td>0.05963</td>\n",
              "      <td>0.009208</td>\n",
              "      <td>14.91</td>\n",
              "      <td>26.50</td>\n",
              "      <td>98.87</td>\n",
              "      <td>567.7</td>\n",
              "      <td>0.2098</td>\n",
              "      <td>0.8663</td>\n",
              "      <td>0.6869</td>\n",
              "      <td>0.2575</td>\n",
              "      <td>0.6638</td>\n",
              "      <td>0.17300</td>\n",
              "      <td>1</td>\n",
              "    </tr>\n",
              "    <tr>\n",
              "      <th>4</th>\n",
              "      <td>20.29</td>\n",
              "      <td>14.34</td>\n",
              "      <td>135.10</td>\n",
              "      <td>1297.0</td>\n",
              "      <td>0.10030</td>\n",
              "      <td>0.13280</td>\n",
              "      <td>0.1980</td>\n",
              "      <td>0.10430</td>\n",
              "      <td>0.1809</td>\n",
              "      <td>0.05883</td>\n",
              "      <td>0.7572</td>\n",
              "      <td>0.7813</td>\n",
              "      <td>5.438</td>\n",
              "      <td>94.44</td>\n",
              "      <td>0.011490</td>\n",
              "      <td>0.02461</td>\n",
              "      <td>0.05688</td>\n",
              "      <td>0.01885</td>\n",
              "      <td>0.01756</td>\n",
              "      <td>0.005115</td>\n",
              "      <td>22.54</td>\n",
              "      <td>16.67</td>\n",
              "      <td>152.20</td>\n",
              "      <td>1575.0</td>\n",
              "      <td>0.1374</td>\n",
              "      <td>0.2050</td>\n",
              "      <td>0.4000</td>\n",
              "      <td>0.1625</td>\n",
              "      <td>0.2364</td>\n",
              "      <td>0.07678</td>\n",
              "      <td>1</td>\n",
              "    </tr>\n",
              "  </tbody>\n",
              "</table>\n",
              "</div>"
            ],
            "text/plain": [
              "      0      1       2       3        4   ...      26      27      28       29  30\n",
              "0  17.99  10.38  122.80  1001.0  0.11840  ...  0.7119  0.2654  0.4601  0.11890   1\n",
              "1  20.57  17.77  132.90  1326.0  0.08474  ...  0.2416  0.1860  0.2750  0.08902   1\n",
              "2  19.69  21.25  130.00  1203.0  0.10960  ...  0.4504  0.2430  0.3613  0.08758   1\n",
              "3  11.42  20.38   77.58   386.1  0.14250  ...  0.6869  0.2575  0.6638  0.17300   1\n",
              "4  20.29  14.34  135.10  1297.0  0.10030  ...  0.4000  0.1625  0.2364  0.07678   1\n",
              "\n",
              "[5 rows x 31 columns]"
            ]
          },
          "metadata": {},
          "execution_count": 2
        }
      ]
    },
    {
      "cell_type": "code",
      "metadata": {
        "id": "Dm3v7SzhGoLb"
      },
      "source": [
        "### Implement the loss function for logistic regression\n",
        "def compute_cost(ip, op, params):\n",
        "    \"\"\"\n",
        "    Cost function in linear regression where the cost is calculated\n",
        "    ip: input variables\n",
        "    op: output variables\n",
        "    params: corresponding parameters\n",
        "    Returns cost\n",
        "    \"\"\"\n",
        "    num_samples = len(op)\n",
        "    cost_sum = 0\n",
        "    c = 0.00001\n",
        "    for x, y in zip(ip, op):\n",
        "        sig_WX = sigmoid(sum(params * x))\n",
        "        #if sig_WX == 1 or sig_WX == 0:\n",
        "        #    cost_sum += int(y == sig_WX)\n",
        "        #else:\n",
        "        cost_sum += y * np.log(sig_WX + c) + (1 - y) * np.log(1 - sig_WX + c)\n",
        "\n",
        "    cost = -cost_sum / num_samples\n",
        "    # End code here\n",
        "    return cost"
      ],
      "execution_count": 3,
      "outputs": []
    },
    {
      "cell_type": "code",
      "metadata": {
        "id": "Ql7rdMIPGoLb"
      },
      "source": [
        "#the load_data function is written for you\n",
        "def load_data(data_dir):\n",
        "    df = pd.read_csv(data_dir)\n",
        "    data = np.asarray(df.iloc[:, :-1])\n",
        "    labels = np.asarray(df.iloc[:, -1])\n",
        "    \n",
        "    return data, labels"
      ],
      "execution_count": 4,
      "outputs": []
    },
    {
      "cell_type": "code",
      "metadata": {
        "id": "TcV0WvA_GoLc"
      },
      "source": [
        "### Implement the sigmoid function \n",
        "def sigmoid(z):\n",
        "    return 1 / (1 + np.exp(-z))"
      ],
      "execution_count": 5,
      "outputs": []
    },
    {
      "cell_type": "markdown",
      "metadata": {
        "id": "As4FE99sGoLc"
      },
      "source": [
        "\n",
        "### Batch gradient descent\n",
        "Algorithm can be given as follows:\n",
        "\n",
        "```for j in 0 -> max_iteration: \n",
        "    for (x_batch,y_batch) in batches: \n",
        "        calculate gradient using (x_batch,y_batch)\n",
        "        update theta\n",
        "```"
      ]
    },
    {
      "cell_type": "code",
      "metadata": {
        "id": "lg5VudO1GoLc"
      },
      "source": [
        "def logistic_regression_using_batch_gradient_descent(ip, op, params, alpha, max_iter, batch_size = 1):\n",
        "#     print ('ip.shape ',ip.shape)\n",
        "#     print ('op.shape ',op.shape)\n",
        "#     print ('params.shape ',params.shape)\n",
        "    \"\"\"\n",
        "    Compute the params for linear regression using batch gradient descent\n",
        "    ip: input variables\n",
        "    op: output variables\n",
        "    params: corresponding parameters\n",
        "    alpha: learning rate\n",
        "    max_iter: maximum number of iterations\n",
        "    batch_size: size of mini-batches\n",
        "    Returns parameters, cost, params_store\n",
        "    \"\"\" \n",
        "    # initialize iteration, number of samples, cost\n",
        "    iteration = 0\n",
        "    num_samples = len(ip)\n",
        "    cost = np.zeros(max_iter)\n",
        "    \n",
        "    # batchify the data into mini-batches\n",
        "    num_batch = int(num_samples / batch_size)\n",
        "    batches = []\n",
        "    for i in range(num_batch - 1):\n",
        "        x_batch = ip[i*batch_size:(i + 1)*batch_size]\n",
        "        y_batch = op[i*batch_size:(i + 1)*batch_size]\n",
        "        batches.append((np.asarray(x_batch), np.asarray(y_batch)))\n",
        "    i += 1\n",
        "    x_batch = ip[i * batch_size:len(ip)]\n",
        "    y_batch = op[i * batch_size:len(op)]\n",
        "    batches.append((np.asarray(x_batch), np.asarray(y_batch)))\n",
        "\n",
        "    # Compute the cost and store the params for the corresponding cost\n",
        "    while iteration < max_iter:\n",
        "        cost[iteration] = compute_cost(ip, op, params)\n",
        "        \n",
        "        for x_batch,y_batch in batches:\n",
        "            O_minus_y = np.array([sigmoid(sum(params * x_batch[i])) for i in range(len(x_batch))]) - y_batch    \n",
        "            gradient = np.dot(x_batch.T, O_minus_y)\n",
        "            params -= alpha * gradient/len(y_batch)\n",
        "            \n",
        "        iteration += 1\n",
        "    \n",
        "    return params, cost"
      ],
      "execution_count": 6,
      "outputs": []
    },
    {
      "cell_type": "code",
      "metadata": {
        "id": "CWJmHhe-GoLc"
      },
      "source": [
        "def evaluate(x_test, y_test,params):\n",
        "    \"\"\"\n",
        "    Evaluate the model, return the accuracy, precision and recall\n",
        "    x_test: input variables \n",
        "    y_test: labels\n",
        "    params: corresponding parameters\n",
        "    \"\"\" \n",
        "    y_predict = []\n",
        "    true_positive = 0\n",
        "    #false_positive = 0\n",
        "    #false_negative = 0\n",
        "    # sum(params * x_test[i]) > 0 means W_T * x > 0 and sigmoid(W_T * x) > 0.5, \n",
        "    # which means the predict is 1\n",
        "    for i in range(x_test.shape[0]):\n",
        "        y_predict.append( int(sum(params * x_test[i]) > 0))\n",
        "        if int(sum(params * x_test[i]) > 0) == 1 and y_test[i] == 1:\n",
        "          true_positive += 1\n",
        "        #if int(sum(params * x_test[i]) > 0) == 1 and y_test[i] == 0:\n",
        "        #  false_positive += 1\n",
        "        #if int(sum(params * x_test[i]) > 0) == 0 and y_test[i] == 1:\n",
        "        #  false_negative += 1\n",
        "\n",
        "    acc = np.sum(y_predict == y_test) / y_test.shape[0]\n",
        "\n",
        "    #precision = true_positive / (true_positive + false_positive)\n",
        "    #recall = true_positive / (true_positive + false_negative)\n",
        "    precision = true_positive / sum(y_predict)\n",
        "    recall = true_positive / sum(y_test)\n",
        "    return acc, precision, recall\n",
        "            \n"
      ],
      "execution_count": 7,
      "outputs": []
    },
    {
      "cell_type": "code",
      "metadata": {
        "id": "JKSqdRToGoLc"
      },
      "source": [
        "def cross_validation(x_train_full, y_train_full, k, alpha, max_iter, batch_size):\n",
        "    \"\"\"\n",
        "    For a given set of hyper-parameters, do k-fold cross_validation, return the average accuracy.\n",
        "    x_train_full: the full training data\n",
        "    y_test: the full training labels\n",
        "    k: number of folds to divide the whole traiing set\n",
        "    alpha: step-size for Gradient Descent\n",
        "    max_iter: maximum number of iterations\n",
        "    batch_size: size of mini-batches\n",
        "    Return the average accuracy\n",
        "    \"\"\"\n",
        "    #split the data into k-folds\n",
        "    all_accs = []\n",
        "    num_samples = y_train_full.shape[0]\n",
        "    fold_size = int(y_train_full.shape[0] / k)\n",
        "    # Shuffle the data\n",
        "    shuffler = np.random.permutation(len(y_train_full))\n",
        "    x_train_shuffled = x_train_full[shuffler]\n",
        "    y_train_shuffled = y_train_full[shuffler]\n",
        "    # Generate fold index\n",
        "    fold_idx = {}\n",
        "    for i in range(k - 1):\n",
        "        fold_idx[i] = np.array(range(i * fold_size, i * fold_size + fold_size))\n",
        "    i += 1\n",
        "    fold_idx[i] = np.array(range(i * fold_size, x_train_shuffled.shape[0]))\n",
        "\n",
        "    for idx in range(k):\n",
        "        ###during each iteration, we hold out one hold for evaluation, and use the rest as training data\n",
        "        train_index = np.delete(np.array(range(x_train_shuffled.shape[0])), fold_idx[idx])\n",
        "        x_train = x_train_shuffled[train_index]\n",
        "        y_train = y_train_shuffled[train_index]\n",
        "        x_eval = x_train_shuffled[fold_idx[idx]]\n",
        "        y_eval = y_train_shuffled[fold_idx[idx]]\n",
        "        # train the data\n",
        "        #initial_params_guess = np.ones(x_train_full.shape[1]) / 1000\n",
        "        initial_params_guess = np.zeros(x_train_full.shape[1])\n",
        "        params, cost = logistic_regression_using_batch_gradient_descent(x_train, y_train, initial_params_guess,\n",
        "                                                                  alpha, max_iter, batch_size)\n",
        "        #After figuring out the training and eval data, train you model and evaluate it to get the accuracy.\n",
        "        acc, precision, recall = evaluate(x_eval, y_eval, params)\n",
        "        all_accs.append(acc)\n",
        "    average_acc = sum(all_accs)/k\n",
        "    return average_acc"
      ],
      "execution_count": 8,
      "outputs": []
    },
    {
      "cell_type": "markdown",
      "metadata": {
        "id": "83_NpaeOGoLd"
      },
      "source": [
        "### Cross-validation to find the best alpha"
      ]
    },
    {
      "cell_type": "code",
      "metadata": {
        "id": "-pW1pwzhGoLd",
        "colab": {
          "base_uri": "https://localhost:8080/"
        },
        "outputId": "81d419a9-ad22-4114-a557-dd117b9b3a23"
      },
      "source": [
        "#Set your DATA_DIR\n",
        "DATA_DIR='breastcancer.csv'\n",
        "# Do not change the code below\n",
        "# Train the model\n",
        "from sklearn.model_selection import train_test_split\n",
        "#reserve the test data, do not use them for cross-validation!\n",
        "data, labels = load_data(DATA_DIR)\n",
        "x_train, x_test, y_train, y_test = train_test_split(data, labels, test_size=0.20)\n",
        "x_train = np.append(x_train, np.ones((x_train.shape[0],1)), axis=1)\n",
        "x_test = np.append(x_test, np.ones((x_test.shape[0],1)), axis=1)\n",
        "\n",
        "## For each possible value of alpha, do cross-validation\n",
        "##compare the average accuracies and choose the best alpha\n",
        "alphas = [5e-4,1e-4,5e-3,1e-3,5e-2]\n",
        "max_iter = 200\n",
        "batch_size =16\n",
        "cv_results =[]\n",
        "for alpha in alphas:\n",
        "    average_acc = cross_validation(x_train, y_train, 10, alpha, max_iter, batch_size)\n",
        "    cv_results.append([average_acc,alpha])\n",
        "cv_results.sort()\n",
        "print (cv_results)\n",
        "best_alpha = cv_results[-1][1]\n",
        "\n"
      ],
      "execution_count": 9,
      "outputs": [
        {
          "output_type": "stream",
          "text": [
            "/usr/local/lib/python3.7/dist-packages/ipykernel_launcher.py:3: RuntimeWarning: overflow encountered in exp\n",
            "  This is separate from the ipykernel package so we can avoid doing imports until\n"
          ],
          "name": "stderr"
        },
        {
          "output_type": "stream",
          "text": [
            "[[0.7853514739229025, 0.0001], [0.8672108843537416, 0.005], [0.8831292517006801, 0.05], [0.9036734693877552, 0.001], [0.9181405895691611, 0.0005]]\n"
          ],
          "name": "stdout"
        }
      ]
    },
    {
      "cell_type": "markdown",
      "metadata": {
        "id": "0v1HhMzZGoLd"
      },
      "source": [
        "### Re-train on the whole training set with the best alpha, report results on test data.\n"
      ]
    },
    {
      "cell_type": "code",
      "metadata": {
        "id": "PQySghyIGoLd",
        "colab": {
          "base_uri": "https://localhost:8080/"
        },
        "outputId": "2f8fbb97-9c6e-4bcc-f6d7-d5c7f4b37491"
      },
      "source": [
        "# Do not change the code in this cell\n",
        "# Re-train the model using the best alpha you picked\n",
        "# Report the final results\n",
        "\n",
        "params = np.zeros(x_train.shape[1])\n",
        "params, costs =\\\n",
        "    logistic_regression_using_batch_gradient_descent(x_train, y_train, params, best_alpha, max_iter, batch_size=10)\n",
        "final_acc,final_precision,final_recall = evaluate(x_test, y_test,params)\n",
        "print ('Final results : Accuracy:{:.2f}, Precision:{:.2f},Recal:{:.2f}'.format(final_acc,final_precision,final_recall))"
      ],
      "execution_count": 10,
      "outputs": [
        {
          "output_type": "stream",
          "text": [
            "Final results : Accuracy:0.91, Precision:0.91,Recal:0.88\n"
          ],
          "name": "stdout"
        }
      ]
    },
    {
      "cell_type": "code",
      "metadata": {
        "id": "YJWoRmgUGoLd",
        "colab": {
          "base_uri": "https://localhost:8080/",
          "height": 282
        },
        "outputId": "b3eed354-7799-490c-e58b-522b991b6e64"
      },
      "source": [
        "plt.plot(costs)"
      ],
      "execution_count": 11,
      "outputs": [
        {
          "output_type": "execute_result",
          "data": {
            "text/plain": [
              "[<matplotlib.lines.Line2D at 0x7fa7ab6dfe50>]"
            ]
          },
          "metadata": {},
          "execution_count": 11
        },
        {
          "output_type": "display_data",
          "data": {
            "image/png": "[encoded data removed]",
            "text/plain": [
              "<Figure size 432x288 with 1 Axes>"
            ]
          },
          "metadata": {
            "needs_background": "light"
          }
        }
      ]
    }
  ]
}